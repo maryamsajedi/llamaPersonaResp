{
 "cells": [
  {
   "cell_type": "code",
   "execution_count": 6,
   "id": "5657784b",
   "metadata": {},
   "outputs": [],
   "source": [
    "import pickle, json"
   ]
  },
  {
   "cell_type": "markdown",
   "id": "71851745",
   "metadata": {},
   "source": [
    "### **Load Data**"
   ]
  },
  {
   "cell_type": "code",
   "execution_count": 10,
   "id": "1bd51273",
   "metadata": {},
   "outputs": [],
   "source": [
    "with open('/home/maryam/llamaPersonaResp/Data/common/train_response_user.pkl', 'rb') as f:\n",
    "    train_response_user = pickle.load(f)\n",
    "with open('/home/maryam/llamaPersonaResp/Data/common/test_response_user.pkl', 'rb') as f:\n",
    "    test_response_user = pickle.load(f)\n",
    "with open('/home/maryam/llamaPersonaResp/Data/common/dev_response_user.pkl', 'rb') as f:\n",
    "    dev_response_user = pickle.load(f)"
   ]
  },
  {
   "cell_type": "code",
   "execution_count": 7,
   "id": "ab678e84",
   "metadata": {},
   "outputs": [],
   "source": [
    "with open('/home/maryam/llamaPersonaResp/Data/data_w.o_profile/final_train.pkl', 'rb') as f:\n",
    "  train_data_wo = pickle.load(f)\n",
    "with open('/home/maryam/llamaPersonaResp/Data/data_w.o_profile/final_test.pkl', 'rb') as f:\n",
    "  test_data_wo= pickle.load(f)\n",
    "with open('/home/maryam/llamaPersonaResp/Data/data_w.o_profile/final_dev.pkl', 'rb') as f:\n",
    "  dev_data_wo = pickle.load(f)"
   ]
  },
  {
   "cell_type": "code",
   "execution_count": 18,
   "id": "910310fd",
   "metadata": {},
   "outputs": [],
   "source": [
    "# Common Nouns\n",
    "with open('/home/maryam/llamaPersonaResp/Data/profiles/profile1.json', 'r') as f:\n",
    "    profile1 = json.load(f)\n",
    "\n",
    "# Common Verbs\n",
    "with open('/home/maryam/llamaPersonaResp/Data/profiles/profile2.json', 'r') as f:\n",
    "    profile2 = json.load(f)\n",
    "\n",
    "# Profile1+Profile2\n",
    "with open('/home/maryam/llamaPersonaResp/Data/profiles/profile3.json', 'r') as f:\n",
    "    profile3 = json.load(f)\n"
   ]
  },
  {
   "cell_type": "code",
   "execution_count": 20,
   "id": "988e054e",
   "metadata": {},
   "outputs": [],
   "source": [
    "def generate_dataset(dataset, response_user, profile):\n",
    "  data_w_profile = []\n",
    "  for data, user in zip(dataset, response_user):\n",
    "    common_nouns = profile[user]\n",
    "    data_w_profile.append((data[0], data[1], common_nouns, data[2]))\n",
    "\n",
    "  return data_w_profile"
   ]
  },
  {
   "cell_type": "markdown",
   "id": "532a7876",
   "metadata": {},
   "source": [
    "### **Generate Data with Profile1 (common nouns)**"
   ]
  },
  {
   "cell_type": "code",
   "execution_count": 21,
   "id": "70f0333c",
   "metadata": {},
   "outputs": [],
   "source": [
    "train_w_profile1 = generate_dataset(train_data_wo, train_response_user, profile1)\n",
    "test_w_profile1 = generate_dataset(test_data_wo, test_response_user, profile1)\n",
    "dev_w_profile1 = generate_dataset(dev_data_wo, dev_response_user, profile1)"
   ]
  },
  {
   "cell_type": "code",
   "execution_count": 22,
   "id": "bddbb9ae",
   "metadata": {},
   "outputs": [],
   "source": [
    "with open('/home/maryam/llamaPersonaResp/Data/data_w_profile/train_w_profile1.pkl', 'wb') as f:\n",
    "  pickle.dump(train_w_profile1, f)\n",
    "with open('/home/maryam/llamaPersonaResp/Data/data_w_profile/test_w_profile1.pkl', 'wb') as f:\n",
    "  pickle.dump(test_w_profile1, f)\n",
    "with open('/home/maryam/llamaPersonaResp/Data/data_w_profile/dev_w_profile1.pkl', 'wb') as f:\n",
    "  pickle.dump(dev_w_profile1, f)"
   ]
  },
  {
   "cell_type": "markdown",
   "id": "44953d2c",
   "metadata": {},
   "source": [
    "### **Generate Data with Profile2 (common verbs)**"
   ]
  },
  {
   "cell_type": "code",
   "execution_count": 23,
   "id": "d90add3b",
   "metadata": {},
   "outputs": [],
   "source": [
    "train_w_profile2 = generate_dataset(train_data_wo, train_response_user, profile2)\n",
    "test_w_profile2 = generate_dataset(test_data_wo, test_response_user, profile2)\n",
    "dev_w_profile2 = generate_dataset(dev_data_wo, dev_response_user, profile2)"
   ]
  },
  {
   "cell_type": "code",
   "execution_count": 24,
   "id": "c98b197f",
   "metadata": {},
   "outputs": [],
   "source": [
    "with open('/home/maryam/llamaPersonaResp/Data/data_w_profile/train_w_profile2.pkl', 'wb') as f:\n",
    "  pickle.dump(train_w_profile2, f)\n",
    "with open('/home/maryam/llamaPersonaResp/Data/data_w_profile/test_w_profile2.pkl', 'wb') as f:\n",
    "  pickle.dump(test_w_profile2, f)\n",
    "with open('/home/maryam/llamaPersonaResp/Data/data_w_profile/dev_w_profile2.pkl', 'wb') as f:\n",
    "  pickle.dump(dev_w_profile2, f)"
   ]
  },
  {
   "cell_type": "markdown",
   "id": "e46a00a7",
   "metadata": {},
   "source": [
    "### **Generate Data with Profile3 (common verbs + common nouns)**"
   ]
  },
  {
   "cell_type": "code",
   "execution_count": 25,
   "id": "693d9304",
   "metadata": {},
   "outputs": [],
   "source": [
    "train_w_profile3 = generate_dataset(train_data_wo, train_response_user, profile3)\n",
    "test_w_profile3 = generate_dataset(test_data_wo, test_response_user, profile3)\n",
    "dev_w_profile3 = generate_dataset(dev_data_wo, dev_response_user, profile3)"
   ]
  },
  {
   "cell_type": "code",
   "execution_count": 26,
   "id": "8e28a1bb",
   "metadata": {},
   "outputs": [],
   "source": [
    "with open('/home/maryam/llamaPersonaResp/Data/data_w_profile/train_w_profile3.pkl', 'wb') as f:\n",
    "  pickle.dump(train_w_profile3, f)\n",
    "with open('/home/maryam/llamaPersonaResp/Data/data_w_profile/test_w_profile3.pkl', 'wb') as f:\n",
    "  pickle.dump(test_w_profile3, f)\n",
    "with open('/home/maryam/llamaPersonaResp/Data/data_w_profile/dev_w_profile3.pkl', 'wb') as f:\n",
    "  pickle.dump(dev_w_profile3, f)"
   ]
  }
 ],
 "metadata": {
  "kernelspec": {
   "display_name": ".paper",
   "language": "python",
   "name": "python3"
  },
  "language_info": {
   "codemirror_mode": {
    "name": "ipython",
    "version": 3
   },
   "file_extension": ".py",
   "mimetype": "text/x-python",
   "name": "python",
   "nbconvert_exporter": "python",
   "pygments_lexer": "ipython3",
   "version": "3.12.7"
  }
 },
 "nbformat": 4,
 "nbformat_minor": 5
}
