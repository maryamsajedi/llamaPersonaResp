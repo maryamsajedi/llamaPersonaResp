{
 "cells": [
  {
   "cell_type": "code",
   "execution_count": 1,
   "id": "28f0db4d",
   "metadata": {},
   "outputs": [],
   "source": [
    "import pickle\n",
    "import numpy as np\n",
    "\n",
    "from prompt_creation import PromptLlamaMPC"
   ]
  },
  {
   "cell_type": "code",
   "execution_count": 2,
   "id": "bdbb6f8d68551140",
   "metadata": {
    "ExecuteTime": {
     "end_time": "2024-06-06T14:50:38.363391Z",
     "start_time": "2024-06-06T14:50:38.356406Z"
    },
    "collapsed": false
   },
   "outputs": [],
   "source": [
    "prompt_configuration = 'SCHEME0_OUTPUT0.pkl'\n",
    "\n",
    "dataset_sample = '/home/maryam/PrespectivePaper/Data/wikipedia.pkl'"
   ]
  },
  {
   "cell_type": "code",
   "execution_count": 3,
   "id": "32b51aba2335b303",
   "metadata": {
    "ExecuteTime": {
     "end_time": "2024-06-06T14:50:39.352686Z",
     "start_time": "2024-06-06T14:50:39.211178Z"
    },
    "collapsed": false
   },
   "outputs": [],
   "source": [
    "with open(prompt_configuration, 'rb') as f:\n",
    "    prompt = pickle.load(f)\n",
    "    \n",
    "with open(dataset_sample, 'rb') as f:\n",
    "    data = pickle.load(f)"
   ]
  },
  {
   "cell_type": "code",
   "execution_count": 4,
   "id": "b0ce2c0d",
   "metadata": {},
   "outputs": [],
   "source": [
    "prompt_generator = PromptLlamaMPC(prompt)"
   ]
  },
  {
   "cell_type": "code",
   "execution_count": 5,
   "id": "58ab24b722025861",
   "metadata": {
    "ExecuteTime": {
     "end_time": "2024-06-06T14:50:39.794744Z",
     "start_time": "2024-06-06T14:50:39.779801Z"
    },
    "collapsed": false
   },
   "outputs": [],
   "source": [
    "def conversation_basic(posts, speakers):\n",
    "    history = \"\"\n",
    "    \n",
    "    i = 1\n",
    "\n",
    "    for p, s in zip(posts, speakers):\n",
    "        history += str(i) + \" : \" + s + \" [WRITES] \" + p + \"\\n\"\n",
    "        i = i + 1\n",
    "\n",
    "    history = history[:-1]\n",
    "\n",
    "    return history"
   ]
  },
  {
   "cell_type": "code",
   "execution_count": 6,
   "id": "fc41541776927327",
   "metadata": {
    "ExecuteTime": {
     "end_time": "2024-06-06T14:50:40.246142Z",
     "start_time": "2024-06-06T14:50:40.232342Z"
    },
    "collapsed": false
   },
   "outputs": [],
   "source": [
    "def conversation_profile(speakers, addrs, user_tag):\n",
    "    history = \"\"\n",
    "\n",
    "    last_diff_user = 16\n",
    "    last_user = 16\n",
    "    \n",
    "    i = 1\n",
    "\n",
    "    for s, a in zip(speakers, addrs):\n",
    "        final_a = a\n",
    "\n",
    "        if last_user != s:\n",
    "            last_diff_user = last_user\n",
    "        if a == 17:\n",
    "            final_a = last_diff_user\n",
    "        last_user = s\n",
    "\n",
    "        if final_a == 16:\n",
    "            final_a = -1\n",
    "\n",
    "        history += str(i) + \" : \" + user_tag[s] + \" to \" + user_tag[final_a] + \"\\n\"\n",
    "        \n",
    "        i = i + 1\n",
    "\n",
    "    history = history[:-1]\n",
    "\n",
    "    return history"
   ]
  },
  {
   "cell_type": "code",
   "execution_count": 7,
   "id": "5d2d819f9ddb853c",
   "metadata": {
    "ExecuteTime": {
     "end_time": "2024-06-06T14:50:40.648920Z",
     "start_time": "2024-06-06T14:50:40.636519Z"
    },
    "collapsed": false
   },
   "outputs": [
    {
     "name": "stdout",
     "output_type": "stream",
     "text": [
      "524288\n"
     ]
    },
    {
     "ename": "TypeError",
     "evalue": "string indices must be integers, not 'str'",
     "output_type": "error",
     "traceback": [
      "\u001b[0;31m---------------------------------------------------------------------------\u001b[0m",
      "\u001b[0;31mTypeError\u001b[0m                                 Traceback (most recent call last)",
      "Cell \u001b[0;32mIn[7], line 6\u001b[0m\n\u001b[1;32m      4\u001b[0m \u001b[38;5;28;01mfor\u001b[39;00m s \u001b[38;5;129;01min\u001b[39;00m data:\n\u001b[1;32m      5\u001b[0m     \u001b[38;5;28mprint\u001b[39m(s)\n\u001b[0;32m----> 6\u001b[0m     basic_conv\u001b[38;5;241m.\u001b[39mappend(conversation_basic(\u001b[43ms\u001b[49m\u001b[43m[\u001b[49m\u001b[38;5;124;43m'\u001b[39;49m\u001b[38;5;124;43mcontext\u001b[39;49m\u001b[38;5;124;43m'\u001b[39;49m\u001b[43m]\u001b[49m, s[\u001b[38;5;124m'\u001b[39m\u001b[38;5;124mspeaker\u001b[39m\u001b[38;5;124m'\u001b[39m]))\n\u001b[1;32m      7\u001b[0m     profile_conv\u001b[38;5;241m.\u001b[39mappend(conversation_profile(s[\u001b[38;5;124m'\u001b[39m\u001b[38;5;124mcontext\u001b[39m\u001b[38;5;124m'\u001b[39m], s[\u001b[38;5;124m'\u001b[39m\u001b[38;5;124mspeaker\u001b[39m\u001b[38;5;124m'\u001b[39m]))\n",
      "\u001b[0;31mTypeError\u001b[0m: string indices must be integers, not 'str'"
     ]
    }
   ],
   "source": [
    "basic_conv = list()\n",
    "profile_conv = list()\n",
    "\n",
    "for s in data:\n",
    "    print(s)\n",
    "    basic_conv.append(conversation_basic(s['context'], s['speaker']))\n",
    "    profile_conv.append(conversation_profile(s['context'], s['speaker']))"
   ]
  },
  {
   "cell_type": "markdown",
   "id": "bafa4b025f5d178e",
   "metadata": {
    "collapsed": false
   },
   "source": [
    "# RESPONSE SELECTION PROMPT"
   ]
  },
  {
   "cell_type": "code",
   "execution_count": 8,
   "id": "992ae5e95c00874f",
   "metadata": {
    "ExecuteTime": {
     "end_time": "2024-06-06T14:50:43.609394Z",
     "start_time": "2024-06-06T14:50:43.595696Z"
    },
    "collapsed": false
   },
   "outputs": [
    {
     "ename": "FileNotFoundError",
     "evalue": "[Errno 2] No such file or directory: 'prompt/rs_conv_prompts.pkl'",
     "output_type": "error",
     "traceback": [
      "\u001b[0;31m---------------------------------------------------------------------------\u001b[0m",
      "\u001b[0;31mFileNotFoundError\u001b[0m                         Traceback (most recent call last)",
      "Cell \u001b[0;32mIn[8], line 19\u001b[0m\n\u001b[1;32m     15\u001b[0m     rs_conv_prompts\u001b[38;5;241m.\u001b[39mappend(prompt_generator\u001b[38;5;241m.\u001b[39mresponse_selection(conversation\u001b[38;5;241m=\u001b[39m\u001b[38;5;28;01mTrue\u001b[39;00m, item\u001b[38;5;241m=\u001b[39mitem)[\u001b[38;5;241m0\u001b[39m])\n\u001b[1;32m     16\u001b[0m     rs_conv_profile_prompts\u001b[38;5;241m.\u001b[39mappend(prompt_generator\u001b[38;5;241m.\u001b[39mresponse_selection(conversation\u001b[38;5;241m=\u001b[39m\u001b[38;5;28;01mTrue\u001b[39;00m, profile\u001b[38;5;241m=\u001b[39m\u001b[38;5;28;01mTrue\u001b[39;00m, item\u001b[38;5;241m=\u001b[39mitem)[\u001b[38;5;241m0\u001b[39m])\n\u001b[0;32m---> 19\u001b[0m \u001b[38;5;28;01mwith\u001b[39;00m \u001b[38;5;28;43mopen\u001b[39;49m\u001b[43m(\u001b[49m\u001b[38;5;124;43m'\u001b[39;49m\u001b[38;5;124;43mprompt/rs_conv_prompts.pkl\u001b[39;49m\u001b[38;5;124;43m'\u001b[39;49m\u001b[43m,\u001b[49m\u001b[43m \u001b[49m\u001b[38;5;124;43m'\u001b[39;49m\u001b[38;5;124;43mwb\u001b[39;49m\u001b[38;5;124;43m'\u001b[39;49m\u001b[43m)\u001b[49m \u001b[38;5;28;01mas\u001b[39;00m f:\n\u001b[1;32m     20\u001b[0m     pickle\u001b[38;5;241m.\u001b[39mdump(rs_conv_prompts, f)\n\u001b[1;32m     22\u001b[0m \u001b[38;5;28;01mwith\u001b[39;00m \u001b[38;5;28mopen\u001b[39m(\u001b[38;5;124m'\u001b[39m\u001b[38;5;124mprompt/rs_conv_profile_prompts.pkl\u001b[39m\u001b[38;5;124m'\u001b[39m, \u001b[38;5;124m'\u001b[39m\u001b[38;5;124mwb\u001b[39m\u001b[38;5;124m'\u001b[39m) \u001b[38;5;28;01mas\u001b[39;00m f:\n",
      "File \u001b[0;32m~/PrespectivePaper/.paper/lib/python3.12/site-packages/IPython/core/interactiveshell.py:324\u001b[0m, in \u001b[0;36m_modified_open\u001b[0;34m(file, *args, **kwargs)\u001b[0m\n\u001b[1;32m    317\u001b[0m \u001b[38;5;28;01mif\u001b[39;00m file \u001b[38;5;129;01min\u001b[39;00m {\u001b[38;5;241m0\u001b[39m, \u001b[38;5;241m1\u001b[39m, \u001b[38;5;241m2\u001b[39m}:\n\u001b[1;32m    318\u001b[0m     \u001b[38;5;28;01mraise\u001b[39;00m \u001b[38;5;167;01mValueError\u001b[39;00m(\n\u001b[1;32m    319\u001b[0m         \u001b[38;5;124mf\u001b[39m\u001b[38;5;124m\"\u001b[39m\u001b[38;5;124mIPython won\u001b[39m\u001b[38;5;124m'\u001b[39m\u001b[38;5;124mt let you open fd=\u001b[39m\u001b[38;5;132;01m{\u001b[39;00mfile\u001b[38;5;132;01m}\u001b[39;00m\u001b[38;5;124m by default \u001b[39m\u001b[38;5;124m\"\u001b[39m\n\u001b[1;32m    320\u001b[0m         \u001b[38;5;124m\"\u001b[39m\u001b[38;5;124mas it is likely to crash IPython. If you know what you are doing, \u001b[39m\u001b[38;5;124m\"\u001b[39m\n\u001b[1;32m    321\u001b[0m         \u001b[38;5;124m\"\u001b[39m\u001b[38;5;124myou can use builtins\u001b[39m\u001b[38;5;124m'\u001b[39m\u001b[38;5;124m open.\u001b[39m\u001b[38;5;124m\"\u001b[39m\n\u001b[1;32m    322\u001b[0m     )\n\u001b[0;32m--> 324\u001b[0m \u001b[38;5;28;01mreturn\u001b[39;00m \u001b[43mio_open\u001b[49m\u001b[43m(\u001b[49m\u001b[43mfile\u001b[49m\u001b[43m,\u001b[49m\u001b[43m \u001b[49m\u001b[38;5;241;43m*\u001b[39;49m\u001b[43margs\u001b[49m\u001b[43m,\u001b[49m\u001b[43m \u001b[49m\u001b[38;5;241;43m*\u001b[39;49m\u001b[38;5;241;43m*\u001b[39;49m\u001b[43mkwargs\u001b[49m\u001b[43m)\u001b[49m\n",
      "\u001b[0;31mFileNotFoundError\u001b[0m: [Errno 2] No such file or directory: 'prompt/rs_conv_prompts.pkl'"
     ]
    }
   ],
   "source": [
    "rs_conv_prompts = []\n",
    "rs_conv_profile_prompts = []\n",
    "\n",
    "user_tag = [\"[ALEX]\", \"[BENNY]\", \"[CAM]\", \"[DANA]\", \"[OTHER]\"]\n",
    "\n",
    "for b_c, s_c, summ, desc in zip(basic_conv, profile_conv):\n",
    "    \n",
    "    item = dict()\n",
    "    item['conversation'] = b_c\n",
    "    item['interaction'] = s_c\n",
    "    item['summary'] = summ\n",
    "    item['description'] = desc\n",
    "\n",
    "\n",
    "    rs_conv_prompts.append(prompt_generator.response_selection(conversation=True, item=item)[0])\n",
    "    rs_conv_profile_prompts.append(prompt_generator.response_selection(conversation=True, profile=True, item=item)[0])\n",
    "\n",
    "\n",
    "with open('prompt/rs_conv_prompts.pkl', 'wb') as f:\n",
    "    pickle.dump(rs_conv_prompts, f)\n",
    "    \n",
    "with open('prompt/rs_conv_profile_prompts.pkl', 'wb') as f:\n",
    "    pickle.dump(rs_conv_profile_prompts, f)"
   ]
  },
  {
   "cell_type": "code",
   "execution_count": null,
   "id": "406a2751",
   "metadata": {},
   "outputs": [],
   "source": []
  }
 ],
 "metadata": {
  "kernelspec": {
   "display_name": ".paper",
   "language": "python",
   "name": "python3"
  },
  "language_info": {
   "codemirror_mode": {
    "name": "ipython",
    "version": 3
   },
   "file_extension": ".py",
   "mimetype": "text/x-python",
   "name": "python",
   "nbconvert_exporter": "python",
   "pygments_lexer": "ipython3",
   "version": "3.12.7"
  }
 },
 "nbformat": 4,
 "nbformat_minor": 5
}
