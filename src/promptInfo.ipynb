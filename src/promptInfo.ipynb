{
 "cells": [
  {
   "cell_type": "code",
   "execution_count": 1,
   "id": "9b418cf332d9cfc7",
   "metadata": {
    "ExecuteTime": {
     "end_time": "2024-06-03T08:11:09.019818Z",
     "start_time": "2024-06-03T08:11:09.007924Z"
    },
    "collapsed": false
   },
   "outputs": [],
   "source": [
    "input_elements = {\n",
    "    'general_statement':\"\",\n",
    "    'conversation':\"\",\n",
    "    'profile': \"\",\n",
    "}\n",
    "\n",
    "task_definition = {\n",
    "    'response_selection':\"\",\n",
    "}\n",
    "\n",
    "input_format = {\n",
    "    'conversation':\"\",\n",
    "    'profile' : \"\",\n",
    "}\n",
    "\n",
    "instruction = {\n",
    "    'response_selection':\"\",\n",
    "}\n",
    "\n",
    "output_format = {\n",
    "    'response_selection':\"\",\n",
    "}\n",
    "\n",
    "command = {\n",
    "    'response_selection':\"\",\n",
    "}\n",
    "\n",
    "output_template = {\n",
    "    'response_selection':\"\",\n",
    "}"
   ]
  },
  {
   "cell_type": "markdown",
   "id": "4df8a0518437eac6",
   "metadata": {
    "collapsed": false
   },
   "source": [
    "# SCENARIO DESCRIPTION\n",
    "Here you have to describe the scenario in which the LLM will work "
   ]
  },
  {
   "cell_type": "markdown",
   "id": "144cd8d8fa45a602",
   "metadata": {
    "collapsed": false
   },
   "source": [
    "KEYWORDS: conversation, message, text, exchange, speaker, addressee"
   ]
  },
  {
   "cell_type": "code",
   "execution_count": 2,
   "id": "3d242879d37ab9a9",
   "metadata": {
    "ExecuteTime": {
     "end_time": "2024-06-03T08:11:09.024766Z",
     "start_time": "2024-06-03T08:11:09.017464Z"
    },
    "collapsed": false
   },
   "outputs": [
    {
     "name": "stdout",
     "output_type": "stream",
     "text": [
      "You are a system working on conversations. \n",
      "\n",
      "A conversation is a sequence of messages exchanged among two or more users. \n",
      "Each message is associated with a speaker and an addressee.\n",
      "Each message has an integer index according to the order of the messages in the conversation.\n",
      "Each user can be the speaker of multiple messages and the addressee of multiple messages.\n"
     ]
    }
   ],
   "source": [
    "scenario_description = (\n",
    "\"\"\"You are a system working on conversations. \n",
    "\n",
    "A conversation is a sequence of messages exchanged among two or more users. \n",
    "Each message is associated with a speaker and an addressee.\n",
    "Each message has an integer index according to the order of the messages in the conversation.\n",
    "Each user can be the speaker of multiple messages and the addressee of multiple messages.\"\"\"\n",
    ")\n",
    "print(scenario_description)"
   ]
  },
  {
   "cell_type": "markdown",
   "id": "95b5d012223fd07b",
   "metadata": {
    "collapsed": false
   },
   "source": [
    "# INPUT\n"
   ]
  },
  {
   "cell_type": "code",
   "execution_count": 3,
   "id": "ce22a34d0b72c111",
   "metadata": {
    "ExecuteTime": {
     "end_time": "2024-06-03T08:11:09.749829Z",
     "start_time": "2024-06-03T08:11:09.732583Z"
    },
    "collapsed": false
   },
   "outputs": [
    {
     "name": "stdout",
     "output_type": "stream",
     "text": [
      " You are given in input the following information about a conversation, listed in the following bullet point list.\n"
     ]
    }
   ],
   "source": [
    "input_elements['general_statement'] = (\n",
    "\"\"\" You are given in input the following information about a conversation, listed in the following bullet point list.\"\"\"\n",
    ")\n",
    "print(input_elements['general_statement'])"
   ]
  },
  {
   "cell_type": "markdown",
   "id": "95c529ca87772ea1",
   "metadata": {
    "collapsed": false
   },
   "source": [
    "# CONVERSATION"
   ]
  },
  {
   "cell_type": "code",
   "execution_count": 4,
   "id": "f09d9882799d99ae",
   "metadata": {
    "ExecuteTime": {
     "end_time": "2024-06-03T08:11:10.071463Z",
     "start_time": "2024-06-03T08:11:10.054792Z"
    },
    "collapsed": false
   },
   "outputs": [
    {
     "name": "stdout",
     "output_type": "stream",
     "text": [
      " * The transcript of the conversation, reporting the index, the speaker id and the message in chronological order.\n"
     ]
    }
   ],
   "source": [
    "input_elements['conversation'] = (\n",
    "\"\"\" * The transcript of the conversation, reporting the index, the speaker id and the message in chronological order.\"\"\"\n",
    ")\n",
    "print(input_elements['conversation'])"
   ]
  },
  {
   "cell_type": "code",
   "execution_count": 5,
   "id": "ddaec0df9029cc35",
   "metadata": {
    "ExecuteTime": {
     "end_time": "2024-06-03T08:11:10.246092Z",
     "start_time": "2024-06-03T08:11:10.230667Z"
    },
    "collapsed": false
   },
   "outputs": [
    {
     "name": "stdout",
     "output_type": "stream",
     "text": [
      "The transcript of the conversation is reported between the tags [CONVERSATION] and [/CONVERSATION]. The format used for each message is:\n",
      "    \n",
      "<N_TURN> : <SPEAKER_ID> [WRITES] <TEXT>\n",
      "    \n",
      "where the index of the message is reported by tag <N_TURN>, the user id of the speaker of the message is reported by the tag <SPEAKER_ID>, and the text of the message written by the speaker is reported by the tag <TEXT>.\n"
     ]
    }
   ],
   "source": [
    "input_format['conversation'] = (\n",
    "\"\"\"The transcript of the conversation is reported between the tags [CONVERSATION] and [/CONVERSATION]. The format used for each message is:\n",
    "    \n",
    "<N_TURN> : <SPEAKER_ID> [WRITES] <TEXT>\n",
    "    \n",
    "where the index of the message is reported by tag <N_TURN>, the user id of the speaker of the message is reported by the tag <SPEAKER_ID>, and the text of the message written by the speaker is reported by the tag <TEXT>.\"\"\"\n",
    ")\n",
    "print(input_format['conversation'])"
   ]
  },
  {
   "cell_type": "markdown",
   "id": "7b2ef792c7c922d6",
   "metadata": {
    "collapsed": false
   },
   "source": [
    "# User Profile"
   ]
  },
  {
   "cell_type": "code",
   "execution_count": 6,
   "id": "e3ce4b39f0a3fc48",
   "metadata": {
    "ExecuteTime": {
     "end_time": "2024-06-03T08:11:11.725837Z",
     "start_time": "2024-06-03T08:11:11.715335Z"
    },
    "collapsed": false
   },
   "outputs": [
    {
     "name": "stdout",
     "output_type": "stream",
     "text": [
      " * The profile of the speaker of the next message in the current conversation.\n"
     ]
    }
   ],
   "source": [
    "input_elements['profile'] = (\n",
    "\"\"\" * The profile of the speaker of the next message in the current conversation.\"\"\"\n",
    ")\n",
    "print(input_elements['profile'])"
   ]
  },
  {
   "cell_type": "code",
   "execution_count": 7,
   "id": "a02b887bb481d2b0",
   "metadata": {
    "ExecuteTime": {
     "end_time": "2024-06-03T08:11:12.142522Z",
     "start_time": "2024-06-03T08:11:12.124297Z"
    },
    "collapsed": false
   },
   "outputs": [
    {
     "name": "stdout",
     "output_type": "stream",
     "text": [
      "The profile of the speaker of the next message is reported between the tags [PROFILE] and [/PROFILE].\n"
     ]
    }
   ],
   "source": [
    "input_format['profile'] = (\n",
    "\"\"\"The profile of the speaker of the next message is reported between the tags [PROFILE] and [/PROFILE].\"\"\"\n",
    ")\n",
    "print(input_format['profile'])"
   ]
  },
  {
   "cell_type": "markdown",
   "id": "1592221631550fd7",
   "metadata": {
    "collapsed": false
   },
   "source": [
    "# RESPONSE GENERATION"
   ]
  },
  {
   "cell_type": "code",
   "execution_count": 8,
   "id": "7e30dabe480b8b0e",
   "metadata": {
    "ExecuteTime": {
     "end_time": "2024-06-03T08:11:12.809853Z",
     "start_time": "2024-06-03T08:11:12.794911Z"
    },
    "collapsed": false
   },
   "outputs": [
    {
     "name": "stdout",
     "output_type": "stream",
     "text": [
      "Based on the provided user profile and the conversation, you have to write the next message in the conversation.\n"
     ]
    }
   ],
   "source": [
    "task_definition['response_selection'] = (\n",
    "\"\"\"Based on the provided user profile and the conversation, you have to write the next message in the conversation.\"\"\"\n",
    ")\n",
    "print(task_definition['response_selection'])"
   ]
  },
  {
   "cell_type": "code",
   "execution_count": 9,
   "id": "cda6a78a08b9c695",
   "metadata": {
    "ExecuteTime": {
     "end_time": "2024-06-03T08:11:12.970118Z",
     "start_time": "2024-06-03T08:11:12.954254Z"
    },
    "collapsed": false
   },
   "outputs": [
    {
     "name": "stdout",
     "output_type": "stream",
     "text": [
      "You will be given the instruction\n",
      "    \n",
      "Write the next message from <NEXT_SPEAKER_ID>.\n",
      "    \n",
      "Where <NEXT_SPEAKER_ID> is the user id of the speaker of the next message. \n",
      "You have to write the message based on <NEXT_SPEAKER_ID>'s profile.\n",
      "You will output the next message in the conversation written by <NEXT_SPEAKER_ID>, without any formality at the beginning.\n"
     ]
    }
   ],
   "source": [
    "instruction['response_selection'] = (\n",
    "\"\"\"You will be given the instruction\n",
    "    \n",
    "Write the next message from <NEXT_SPEAKER_ID>.\n",
    "    \n",
    "Where <NEXT_SPEAKER_ID> is the user id of the speaker of the next message. \n",
    "You have to write the message based on <NEXT_SPEAKER_ID>'s profile.\n",
    "You will output the next message in the conversation written by <NEXT_SPEAKER_ID>, without any formality at the beginning.\"\"\"\n",
    ")\n",
    "print(instruction['response_selection'])"
   ]
  },
  {
   "cell_type": "code",
   "execution_count": 10,
   "id": "18f47e8bed7e37f0",
   "metadata": {
    "ExecuteTime": {
     "end_time": "2024-06-03T08:11:13.120671Z",
     "start_time": "2024-06-03T08:11:13.106049Z"
    },
    "collapsed": false
   },
   "outputs": [
    {
     "name": "stdout",
     "output_type": "stream",
     "text": [
      "Your answer format must be as follows:\n",
      "[ANSWER]: <NEXT_SPEAKER_ID> [WRITES] <NEXT_TEXT>\n",
      "\n",
      "Where <NEXT_TEXT> is the text of the next message in the conversation written by <NEXT_SPEAKER_ID>.\n"
     ]
    }
   ],
   "source": [
    "output_format['response_selection'] = (\n",
    "\"\"\"Your answer format must be as follows:\n",
    "[ANSWER]: <NEXT_SPEAKER_ID> [WRITES] <NEXT_TEXT>\n",
    "\n",
    "Where <NEXT_TEXT> is the text of the next message in the conversation written by <NEXT_SPEAKER_ID>.\"\"\"\n",
    ")\n",
    "print(output_format['response_selection'])"
   ]
  },
  {
   "cell_type": "code",
   "execution_count": 11,
   "id": "8bb2b719703bec90",
   "metadata": {
    "ExecuteTime": {
     "end_time": "2024-06-03T08:11:13.269794Z",
     "start_time": "2024-06-03T08:11:13.256219Z"
    },
    "collapsed": false
   },
   "outputs": [
    {
     "name": "stdout",
     "output_type": "stream",
     "text": [
      "Write the next message from <NEXT_SPEAKER_ID>.\n"
     ]
    }
   ],
   "source": [
    "command['response_selection'] = (\n",
    "\"\"\"Write the next message from <NEXT_SPEAKER_ID>.\"\"\"\n",
    ")\n",
    "\n",
    "print(command['response_selection'])"
   ]
  },
  {
   "cell_type": "code",
   "execution_count": 12,
   "id": "e111ae8ac4cee642",
   "metadata": {
    "ExecuteTime": {
     "end_time": "2024-06-03T08:11:13.440373Z",
     "start_time": "2024-06-03T08:11:13.427066Z"
    },
    "collapsed": false
   },
   "outputs": [
    {
     "name": "stdout",
     "output_type": "stream",
     "text": [
      "[ANSWER]: [ALEX] [WRITES] \n"
     ]
    }
   ],
   "source": [
    "output_template['response_selection'] = (\n",
    "\"\"\"[ANSWER]: [ALEX] [WRITES] \"\"\"\n",
    ")\n",
    "\n",
    "print(output_template['response_selection'])"
   ]
  },
  {
   "cell_type": "markdown",
   "id": "bfaa90747f1ff90a",
   "metadata": {
    "collapsed": false
   },
   "source": [
    "# SAVE EVERYTHING"
   ]
  },
  {
   "cell_type": "code",
   "execution_count": 13,
   "id": "f03c418d446a6bd9",
   "metadata": {
    "ExecuteTime": {
     "end_time": "2024-06-03T08:11:18.350508Z",
     "start_time": "2024-06-03T08:11:18.330091Z"
    },
    "collapsed": false
   },
   "outputs": [],
   "source": [
    "from prompt_creation import infoPrompt\n",
    "import pickle\n",
    "\n",
    "info = infoPrompt(scenario_description,\n",
    "           input_elements,\n",
    "           task_definition,\n",
    "           input_format,\n",
    "           instruction,\n",
    "           output_format,\n",
    "           command,\n",
    "           output_template)\n",
    "\n",
    "with open('SCHEME0_OUTPUT0.pkl', 'wb') as f:\n",
    "    pickle.dump(info, f)"
   ]
  },
  {
   "cell_type": "code",
   "execution_count": null,
   "id": "6463ed9d",
   "metadata": {},
   "outputs": [],
   "source": []
  }
 ],
 "metadata": {
  "kernelspec": {
   "display_name": ".paper",
   "language": "python",
   "name": "python3"
  },
  "language_info": {
   "codemirror_mode": {
    "name": "ipython",
    "version": 3
   },
   "file_extension": ".py",
   "mimetype": "text/x-python",
   "name": "python",
   "nbconvert_exporter": "python",
   "pygments_lexer": "ipython3",
   "version": "3.12.7"
  }
 },
 "nbformat": 4,
 "nbformat_minor": 5
}
